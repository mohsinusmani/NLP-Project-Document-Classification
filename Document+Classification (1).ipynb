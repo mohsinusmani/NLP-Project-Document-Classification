{
 "cells": [
  {
   "cell_type": "markdown",
   "metadata": {
    "collapsed": true
   },
   "source": [
    "### sentiment analysis\n",
    "### document classification "
   ]
  },
  {
   "cell_type": "code",
   "execution_count": 1,
   "metadata": {},
   "outputs": [
    {
     "name": "stdout",
     "output_type": "stream",
     "text": [
      "[nltk_data] Downloading package stopwords to\n",
      "[nltk_data]     C:\\Users\\user\\AppData\\Roaming\\nltk_data...\n",
      "[nltk_data]   Unzipping corpora\\stopwords.zip.\n"
     ]
    },
    {
     "data": {
      "text/plain": [
       "True"
      ]
     },
     "execution_count": 1,
     "metadata": {},
     "output_type": "execute_result"
    }
   ],
   "source": [
    "# Text Classifiation using NLP\n",
    "\n",
    "# Importing the libraries\n",
    "import numpy as np\n",
    "import re\n",
    "import pickle \n",
    "import nltk\n",
    "from nltk.corpus import stopwords\n",
    "from sklearn.datasets import load_files\n",
    "nltk.download('stopwords')"
   ]
  },
  {
   "cell_type": "code",
   "execution_count": 2,
   "metadata": {},
   "outputs": [
    {
     "name": "stdout",
     "output_type": "stream",
     "text": [
      "C:\\training\\Day9\n"
     ]
    }
   ],
   "source": [
    "%cd \"C:\\training\\Day9\""
   ]
  },
  {
   "cell_type": "code",
   "execution_count": 3,
   "metadata": {
    "collapsed": true
   },
   "outputs": [],
   "source": [
    "# Importing the dataset\n",
    "reviews = load_files('txt_sentoken/',shuffle=False)\n",
    "X,y = reviews.data,reviews.target"
   ]
  },
  {
   "cell_type": "code",
   "execution_count": 17,
   "metadata": {},
   "outputs": [
    {
     "data": {
      "text/plain": [
       "b'plot : two teen couples go to a church party , drink and then drive . \\nthey get into an accident . \\none of the guys dies , but his girlfriend continues to see him in her life , and has nightmares . \\nwhat\\'s the deal ? \\nwatch the movie and \" sorta \" find out . . . \\ncritique : a mind-fuck movie for the teen generation that touches on a very cool idea , but presents it in a very bad package . \\nwhich is what makes this review an even harder one to write , since i generally applaud films which attempt to break the mold , mess with your head and such ( lost highway & memento ) , but there are good and bad ways of making all types of films , and these folks just didn\\'t snag this one correctly . \\nthey seem to have taken this pretty neat concept , but executed it terribly . \\nso what are the problems with the movie ? \\nwell , its main problem is that it\\'s simply too jumbled . \\nit starts off \" normal \" but then downshifts into this \" fantasy \" world in which you , as an audience member , have no idea what\\'s going on . \\nthere are dreams , there are characters coming back from the dead , there are others who look like the dead , there are strange apparitions , there are disappearances , there are a looooot of chase scenes , there are tons of weird things that happen , and most of it is simply not explained . \\nnow i personally don\\'t mind trying to unravel a film every now and then , but when all it does is give me the same clue over and over again , i get kind of fed up after a while , which is this film\\'s biggest problem . \\nit\\'s obviously got this big secret to hide , but it seems to want to hide it completely until its final five minutes . \\nand do they make things entertaining , thrilling or even engaging , in the meantime ? \\nnot really . \\nthe sad part is that the arrow and i both dig on flicks like this , so we actually figured most of it out by the half-way point , so all of the strangeness after that did start to make a little bit of sense , but it still didn\\'t the make the film all that more entertaining . \\ni guess the bottom line with movies like this is that you should always make sure that the audience is \" into it \" even before they are given the secret password to enter your world of understanding . \\ni mean , showing melissa sagemiller running away from visions for about 20 minutes throughout the movie is just plain lazy ! ! \\nokay , we get it . . . there \\nare people chasing her and we don\\'t know who they are . \\ndo we really need to see it over and over again ? \\nhow about giving us different scenes offering further insight into all of the strangeness going down in the movie ? \\napparently , the studio took this film away from its director and chopped it up themselves , and it shows . \\nthere might\\'ve been a pretty decent teen mind-fuck movie in here somewhere , but i guess \" the suits \" decided that turning it into a music video with little edge , would make more sense . \\nthe actors are pretty good for the most part , although wes bentley just seemed to be playing the exact same character that he did in american beauty , only in a new neighborhood . \\nbut my biggest kudos go out to sagemiller , who holds her own throughout the entire film , and actually has you feeling her character\\'s unraveling . \\noverall , the film doesn\\'t stick because it doesn\\'t entertain , it\\'s confusing , it rarely excites and it feels pretty redundant for most of its runtime , despite a pretty cool ending and explanation to all of the craziness that came before it . \\noh , and by the way , this is not a horror or teen slasher flick . . . it\\'s \\njust packaged to look that way because someone is apparently assuming that the genre is still hot with the kids . \\nit also wrapped production two years ago and has been sitting on the shelves ever since . \\nwhatever . . . skip \\nit ! \\nwhere\\'s joblo coming from ? \\na nightmare of elm street 3 ( 7/10 ) - blair witch 2 ( 7/10 ) - the crow ( 9/10 ) - the crow : salvation ( 4/10 ) - lost highway ( 10/10 ) - memento ( 10/10 ) - the others ( 9/10 ) - stir of echoes ( 8/10 ) \\n'"
      ]
     },
     "execution_count": 17,
     "metadata": {},
     "output_type": "execute_result"
    }
   ],
   "source": [
    "X[0]"
   ]
  },
  {
   "cell_type": "code",
   "execution_count": 15,
   "metadata": {
    "collapsed": true
   },
   "outputs": [],
   "source": [
    "# Pickling the dataset\n",
    "with open('Review.pickle','wb') as f:\n",
    "    pickle.dump(X,f)\n",
    "    \n",
    "with open('sent.pickle','wb') as f:\n",
    "    pickle.dump(y,f)\n",
    "\n"
   ]
  },
  {
   "cell_type": "code",
   "execution_count": 16,
   "metadata": {
    "collapsed": true
   },
   "outputs": [],
   "source": [
    "# Unpickling dataset\n",
    "X_in = open('Review.pickle','rb')\n",
    "y_in = open('sent.pickle','rb')\n",
    "X = pickle.load(X_in)\n",
    "y = pickle.load(y_in)"
   ]
  },
  {
   "cell_type": "code",
   "execution_count": 18,
   "metadata": {
    "collapsed": true
   },
   "outputs": [],
   "source": [
    "\n",
    "# Creating the corpus\n",
    "corpus = []\n",
    "for i in range(0, len(X)):\n",
    "    review = re.sub(r'\\W', ' ', str(X[i]))\n",
    "    review = review.lower()\n",
    "    review = re.sub(r'^br$', ' ', review)\n",
    "    review = re.sub(r'\\s+[a-z]\\s+', ' ',review)\n",
    "    review = re.sub(r'^[a-z]\\s+', '', review)\n",
    "    review = re.sub(r'\\s+', ' ', review)\n",
    "    corpus.append(review)    "
   ]
  },
  {
   "cell_type": "code",
   "execution_count": 19,
   "metadata": {},
   "outputs": [
    {
     "data": {
      "text/plain": [
       "'plot two teen couples go to church party drink and then drive nthey get into an accident none of the guys dies but his girlfriend continues to see him in her life and has nightmares nwhat the deal nwatch the movie and sorta find out ncritique mind fuck movie for the teen generation that touches on very cool idea but presents it in very bad package nwhich is what makes this review an even harder one to write since generally applaud films which attempt to break the mold mess with your head and such lost highway memento but there are good and bad ways of making all types of films and these folks just didn snag this one correctly nthey seem to have taken this pretty neat concept but executed it terribly nso what are the problems with the movie nwell its main problem is that it simply too jumbled nit starts off normal but then downshifts into this fantasy world in which you as an audience member have no idea what going on nthere are dreams there are characters coming back from the dead there are others who look like the dead there are strange apparitions there are disappearances there are looooot of chase scenes there are tons of weird things that happen and most of it is simply not explained nnow personally don mind trying to unravel film every now and then but when all it does is give me the same clue over and over again get kind of fed up after while which is this film biggest problem nit obviously got this big secret to hide but it seems to want to hide it completely until its final five minutes nand do they make things entertaining thrilling or even engaging in the meantime nnot really nthe sad part is that the arrow and both dig on flicks like this so we actually figured most of it out by the half way point so all of the strangeness after that did start to make little bit of sense but it still didn the make the film all that more entertaining ni guess the bottom line with movies like this is that you should always make sure that the audience is into it even before they are given the secret password to enter your world of understanding ni mean showing melissa sagemiller running away from visions for about 20 minutes throughout the movie is just plain lazy nokay we get it there nare people chasing her and we don know who they are ndo we really need to see it over and over again nhow about giving us different scenes offering further insight into all of the strangeness going down in the movie napparently the studio took this film away from its director and chopped it up themselves and it shows nthere might ve been pretty decent teen mind fuck movie in here somewhere but guess the suits decided that turning it into music video with little edge would make more sense nthe actors are pretty good for the most part although wes bentley just seemed to be playing the exact same character that he did in american beauty only in new neighborhood nbut my biggest kudos go out to sagemiller who holds her own throughout the entire film and actually has you feeling her character unraveling noverall the film doesn stick because it doesn entertain it confusing it rarely excites and it feels pretty redundant for most of its runtime despite pretty cool ending and explanation to all of the craziness that came before it noh and by the way this is not horror or teen slasher flick it njust packaged to look that way because someone is apparently assuming that the genre is still hot with the kids nit also wrapped production two years ago and has been sitting on the shelves ever since nwhatever skip nit nwhere joblo coming from na nightmare of elm street 3 7 10 blair witch 2 7 10 the crow 9 10 the crow salvation 4 10 lost highway 10 10 memento 10 10 the others 9 10 stir of echoes 8 10 '"
      ]
     },
     "execution_count": 19,
     "metadata": {},
     "output_type": "execute_result"
    }
   ],
   "source": [
    "corpus[0]"
   ]
  },
  {
   "cell_type": "code",
   "execution_count": 20,
   "metadata": {
    "collapsed": true
   },
   "outputs": [],
   "source": [
    "# Creating the BOW model\n",
    "from sklearn.feature_extraction.text import CountVectorizer\n",
    "vectorizer = CountVectorizer(max_features = 2000, min_df = 3, max_df = 0.6, stop_words = stopwords.words('english'))\n",
    "X = vectorizer.fit_transform(corpus).toarray()"
   ]
  },
  {
   "cell_type": "code",
   "execution_count": 21,
   "metadata": {},
   "outputs": [
    {
     "data": {
      "text/plain": [
       "array([[ 0, 10,  0, ...,  0,  0,  0],\n",
       "       [ 0,  0,  0, ...,  0,  0,  0],\n",
       "       [ 0,  0,  0, ...,  1,  0,  0],\n",
       "       ...,\n",
       "       [ 0,  1,  0, ...,  2,  0,  0],\n",
       "       [ 0,  1,  0, ...,  0,  0,  0],\n",
       "       [ 0,  0,  0, ...,  0,  0,  0]], dtype=int64)"
      ]
     },
     "execution_count": 21,
     "metadata": {},
     "output_type": "execute_result"
    }
   ],
   "source": [
    "X"
   ]
  },
  {
   "cell_type": "code",
   "execution_count": 22,
   "metadata": {
    "collapsed": true
   },
   "outputs": [],
   "source": [
    "# Creating the Tf-Idf Model\n",
    "from sklearn.feature_extraction.text import TfidfTransformer\n",
    "transformer = TfidfTransformer()\n",
    "X = transformer.fit_transform(X).toarray()\n",
    "\n"
   ]
  },
  {
   "cell_type": "code",
   "execution_count": 23,
   "metadata": {},
   "outputs": [
    {
     "data": {
      "text/plain": [
       "array([[0.        , 0.51680048, 0.        , ..., 0.        , 0.        ,\n",
       "        0.        ],\n",
       "       [0.        , 0.        , 0.        , ..., 0.        , 0.        ,\n",
       "        0.        ],\n",
       "       [0.        , 0.        , 0.        , ..., 0.04721612, 0.        ,\n",
       "        0.        ],\n",
       "       ...,\n",
       "       [0.        , 0.03131821, 0.        , ..., 0.04410313, 0.        ,\n",
       "        0.        ],\n",
       "       [0.        , 0.04810554, 0.        , ..., 0.        , 0.        ,\n",
       "        0.        ],\n",
       "       [0.        , 0.        , 0.        , ..., 0.        , 0.        ,\n",
       "        0.        ]])"
      ]
     },
     "execution_count": 23,
     "metadata": {},
     "output_type": "execute_result"
    }
   ],
   "source": [
    "X"
   ]
  },
  {
   "cell_type": "code",
   "execution_count": 28,
   "metadata": {},
   "outputs": [],
   "source": [
    "TfidfVectorizer?"
   ]
  },
  {
   "cell_type": "code",
   "execution_count": 29,
   "metadata": {
    "collapsed": true
   },
   "outputs": [],
   "source": [
    "\n",
    "# Creating the Tf-Idf model directly\n",
    "from sklearn.feature_extraction.text import TfidfVectorizer\n",
    "vectorizer = TfidfVectorizer(max_features = 2000, min_df = 3, max_df = 0.6, stop_words = stopwords.words('english'))\n",
    "X = vectorizer.fit_transform(corpus).toarray()"
   ]
  },
  {
   "cell_type": "code",
   "execution_count": 30,
   "metadata": {},
   "outputs": [
    {
     "data": {
      "text/plain": [
       "array([[0.        , 0.51680048, 0.        , ..., 0.        , 0.        ,\n",
       "        0.        ],\n",
       "       [0.        , 0.        , 0.        , ..., 0.        , 0.        ,\n",
       "        0.        ],\n",
       "       [0.        , 0.        , 0.        , ..., 0.04721612, 0.        ,\n",
       "        0.        ],\n",
       "       ...,\n",
       "       [0.        , 0.03131821, 0.        , ..., 0.04410313, 0.        ,\n",
       "        0.        ],\n",
       "       [0.        , 0.04810554, 0.        , ..., 0.        , 0.        ,\n",
       "        0.        ],\n",
       "       [0.        , 0.        , 0.        , ..., 0.        , 0.        ,\n",
       "        0.        ]])"
      ]
     },
     "execution_count": 30,
     "metadata": {},
     "output_type": "execute_result"
    }
   ],
   "source": [
    "X"
   ]
  },
  {
   "cell_type": "code",
   "execution_count": 31,
   "metadata": {
    "collapsed": true
   },
   "outputs": [],
   "source": [
    "\n",
    "# Splitting the dataset into the Training set and Test set\n",
    "from sklearn.model_selection import train_test_split\n",
    "text_train, text_test, sent_train, sent_test = train_test_split(X, y, test_size = 0.20, random_state = 0)"
   ]
  },
  {
   "cell_type": "code",
   "execution_count": 32,
   "metadata": {},
   "outputs": [
    {
     "data": {
      "text/plain": [
       "LogisticRegression(C=1.0, class_weight=None, dual=False, fit_intercept=True,\n",
       "          intercept_scaling=1, max_iter=100, multi_class='ovr', n_jobs=1,\n",
       "          penalty='l2', random_state=None, solver='liblinear', tol=0.0001,\n",
       "          verbose=0, warm_start=False)"
      ]
     },
     "execution_count": 32,
     "metadata": {},
     "output_type": "execute_result"
    }
   ],
   "source": [
    "# Training the classifier\n",
    "from sklearn.linear_model import LogisticRegression\n",
    "classifier = LogisticRegression()\n",
    "classifier.fit(text_train,sent_train)"
   ]
  },
  {
   "cell_type": "code",
   "execution_count": 21,
   "metadata": {},
   "outputs": [
    {
     "name": "stderr",
     "output_type": "stream",
     "text": [
      "C:\\Users\\user\\Anaconda3\\lib\\site-packages\\sklearn\\ensemble\\weight_boosting.py:29: DeprecationWarning: numpy.core.umath_tests is an internal NumPy module and should not be imported. It will be removed in a future NumPy release.\n",
      "  from numpy.core.umath_tests import inner1d\n",
      "C:\\Users\\user\\Anaconda3\\lib\\site-packages\\sklearn\\cross_validation.py:41: DeprecationWarning: This module was deprecated in version 0.18 in favor of the model_selection module into which all the refactored classes and functions are moved. Also note that the interface of the new CV iterators are different from that of this module. This module will be removed in 0.20.\n",
      "  \"This module will be removed in 0.20.\", DeprecationWarning)\n",
      "C:\\Users\\user\\Anaconda3\\lib\\site-packages\\sklearn\\grid_search.py:42: DeprecationWarning: This module was deprecated in version 0.18 in favor of the model_selection module into which all the refactored classes and functions are moved. This module will be removed in 0.20.\n",
      "  DeprecationWarning)\n"
     ]
    },
    {
     "name": "stdout",
     "output_type": "stream",
     "text": [
      "Fitting 5 folds for each of 30 candidates, totalling 150 fits\n"
     ]
    },
    {
     "name": "stderr",
     "output_type": "stream",
     "text": [
      "[Parallel(n_jobs=-1)]: Done  42 tasks      | elapsed:  6.0min\n",
      "[Parallel(n_jobs=-1)]: Done 150 out of 150 | elapsed: 20.5min finished\n"
     ]
    },
    {
     "data": {
      "text/plain": [
       "GridSearchCV(cv=5, error_score='raise',\n",
       "       estimator=AdaBoostClassifier(algorithm='SAMME.R', base_estimator=None,\n",
       "          learning_rate=1.0, n_estimators=50, random_state=None),\n",
       "       fit_params={}, iid=True, n_jobs=-1,\n",
       "       param_grid={'n_estimators': [100, 200, 400, 600, 800], 'learning_rate': [0.001, 0.01, 0.1, 1, 10, 100]},\n",
       "       pre_dispatch='2*n_jobs', refit=True, scoring=None, verbose=True)"
      ]
     },
     "execution_count": 21,
     "metadata": {},
     "output_type": "execute_result"
    }
   ],
   "source": [
    "from sklearn.ensemble import AdaBoostClassifier, GradientBoostingClassifier\n",
    "pargrid_ada = {'n_estimators': [100, 200, 400, 600, 800],\n",
    "               'learning_rate': [10 ** x for x in range(-3, 3)]}\n",
    "from sklearn.grid_search import GridSearchCV\n",
    "gscv_ada = GridSearchCV(estimator=AdaBoostClassifier(), \n",
    "                        param_grid=pargrid_ada, \n",
    "                        cv=5,\n",
    "                        verbose=True, n_jobs=-1)\n",
    "gscv_ada.fit(text_train, sent_train)"
   ]
  },
  {
   "cell_type": "code",
   "execution_count": null,
   "metadata": {
    "collapsed": true
   },
   "outputs": [],
   "source": []
  },
  {
   "cell_type": "code",
   "execution_count": 33,
   "metadata": {
    "collapsed": true
   },
   "outputs": [],
   "source": [
    "# Testing model performance\n",
    "sent_pred = classifier.predict(text_test)\n",
    "\n",
    "from sklearn.metrics import confusion_matrix\n",
    "cm = confusion_matrix(sent_test, sent_pred)"
   ]
  },
  {
   "cell_type": "code",
   "execution_count": 34,
   "metadata": {},
   "outputs": [
    {
     "data": {
      "text/plain": [
       "array([[170,  30],\n",
       "       [ 22, 178]], dtype=int64)"
      ]
     },
     "execution_count": 34,
     "metadata": {},
     "output_type": "execute_result"
    }
   ],
   "source": [
    "cm"
   ]
  },
  {
   "cell_type": "code",
   "execution_count": 38,
   "metadata": {
    "collapsed": true
   },
   "outputs": [],
   "source": [
    "import sklearn"
   ]
  },
  {
   "cell_type": "code",
   "execution_count": 41,
   "metadata": {},
   "outputs": [
    {
     "data": {
      "text/plain": [
       "0.87"
      ]
     },
     "execution_count": 41,
     "metadata": {},
     "output_type": "execute_result"
    }
   ],
   "source": [
    "sklearn.metrics.accuracy_score(sent_test,sent_pred)"
   ]
  },
  {
   "cell_type": "code",
   "execution_count": 20,
   "metadata": {
    "collapsed": true
   },
   "outputs": [],
   "source": [
    "# Saving our classifier\n",
    "with open('classifier.pickle','wb') as f:\n",
    "    pickle.dump(classifier,f)\n",
    "    \n",
    "# Saving the Tf-Idf model\n",
    "with open('tfidfmodel.pickle','wb') as f:\n",
    "    pickle.dump(vectorizer,f)"
   ]
  },
  {
   "cell_type": "markdown",
   "metadata": {},
   "source": [
    "### USING THE MODELS"
   ]
  },
  {
   "cell_type": "code",
   "execution_count": 52,
   "metadata": {
    "collapsed": true
   },
   "outputs": [],
   "source": [
    "# Using our classifier\n",
    "with open('tfidfmodel.pickle','rb') as f:\n",
    "    tfidf = pickle.load(f)\n",
    "    \n",
    "with open('classifier.pickle','rb') as f:\n",
    "    clf = pickle.load(f)\n",
    "    \n",
    "    \n",
    "sample = [\"You are a bad person man, have a bad life\"]\n",
    "sample = tfidf.transform(sample).toarray()\n",
    "sentiment = clf.predict(sample)"
   ]
  },
  {
   "cell_type": "code",
   "execution_count": 53,
   "metadata": {},
   "outputs": [
    {
     "data": {
      "text/plain": [
       "array([0])"
      ]
     },
     "execution_count": 53,
     "metadata": {},
     "output_type": "execute_result"
    }
   ],
   "source": [
    "sentiment"
   ]
  },
  {
   "cell_type": "markdown",
   "metadata": {},
   "source": [
    "### Twitter data scoring"
   ]
  },
  {
   "cell_type": "code",
   "execution_count": 27,
   "metadata": {},
   "outputs": [
    {
     "name": "stdout",
     "output_type": "stream",
     "text": [
      "Collecting package metadata: ...working... done\n",
      "Solving environment: ...working... failed\n"
     ]
    },
    {
     "name": "stderr",
     "output_type": "stream",
     "text": [
      "\n",
      "PackagesNotFoundError: The following packages are not available from current channels:\n",
      "\n",
      "  - tweepy\n",
      "\n",
      "Current channels:\n",
      "\n",
      "  - https://repo.anaconda.com/pkgs/main/win-64\n",
      "  - https://repo.anaconda.com/pkgs/main/noarch\n",
      "  - https://repo.anaconda.com/pkgs/free/win-64\n",
      "  - https://repo.anaconda.com/pkgs/free/noarch\n",
      "  - https://repo.anaconda.com/pkgs/r/win-64\n",
      "  - https://repo.anaconda.com/pkgs/r/noarch\n",
      "  - https://repo.anaconda.com/pkgs/msys2/win-64\n",
      "  - https://repo.anaconda.com/pkgs/msys2/noarch\n",
      "\n",
      "To search for alternate channels that may provide the conda package you're\n",
      "looking for, navigate to\n",
      "\n",
      "    https://anaconda.org\n",
      "\n",
      "and use the search bar at the top of the page.\n",
      "\n",
      "\n"
     ]
    }
   ],
   "source": [
    "import sys\n",
    "!{sys.executable} -m conda install tweepy"
   ]
  },
  {
   "cell_type": "code",
   "execution_count": 23,
   "metadata": {},
   "outputs": [
    {
     "ename": "ModuleNotFoundError",
     "evalue": "No module named 'tweepy'",
     "output_type": "error",
     "traceback": [
      "\u001b[1;31m---------------------------------------------------------------------------\u001b[0m",
      "\u001b[1;31mModuleNotFoundError\u001b[0m                       Traceback (most recent call last)",
      "\u001b[1;32m<ipython-input-23-494e2f12d493>\u001b[0m in \u001b[0;36m<module>\u001b[1;34m()\u001b[0m\n\u001b[1;32m----> 1\u001b[1;33m \u001b[1;32mimport\u001b[0m \u001b[0mtweepy\u001b[0m\u001b[1;33m\u001b[0m\u001b[0m\n\u001b[0m\u001b[0;32m      2\u001b[0m \u001b[1;32mimport\u001b[0m \u001b[0mre\u001b[0m\u001b[1;33m\u001b[0m\u001b[0m\n\u001b[0;32m      3\u001b[0m \u001b[1;32mimport\u001b[0m \u001b[0mpickle\u001b[0m\u001b[1;33m\u001b[0m\u001b[0m\n\u001b[0;32m      4\u001b[0m \u001b[1;33m\u001b[0m\u001b[0m\n\u001b[0;32m      5\u001b[0m \u001b[1;32mfrom\u001b[0m \u001b[0mtweepy\u001b[0m \u001b[1;32mimport\u001b[0m \u001b[0mOAuthHandler\u001b[0m\u001b[1;33m\u001b[0m\u001b[0m\n",
      "\u001b[1;31mModuleNotFoundError\u001b[0m: No module named 'tweepy'"
     ]
    }
   ],
   "source": [
    "import tweepy\n",
    "import re\n",
    "import pickle\n",
    "\n",
    "from tweepy import OAuthHandler\n",
    "\n",
    "#Please change with your own consumer key, consumer secret, access token and access secret\n",
    "# Initializing the keys\n",
    "consumer_key = 'yoIwFkjZGYDa49aO16XqSNqcN'\n",
    "consumer_secret = 'gl4LQOItV7Z1aFwNrlvaiKJ3t8o8h99blMIAmnmdHxYjzjRAxO' \n",
    "access_token = '624310916-E7fDF2IE8P6bfY1oVFglASf6F8RnxMd3vgSXFqnZ'\n",
    "access_secret ='ID9JcoXHsDcKtvNcnmBGcCQhUlO0wmwAxBJ6LCesiUAas'"
   ]
  },
  {
   "cell_type": "code",
   "execution_count": 24,
   "metadata": {
    "collapsed": true
   },
   "outputs": [],
   "source": [
    "# Initializing the tokens\n",
    "auth = OAuthHandler(consumer_key, consumer_secret)\n",
    "auth.set_access_token(access_token, access_secret)\n",
    "args = ['facebook'];\n",
    "api = tweepy.API(auth,timeout=10)\n"
   ]
  },
  {
   "cell_type": "code",
   "execution_count": 25,
   "metadata": {
    "collapsed": true
   },
   "outputs": [],
   "source": [
    "# Fetching the tweets\n",
    "list_tweets = []\n",
    "\n",
    "query = args[0]\n",
    "if len(args) == 1:\n",
    "    for status in tweepy.Cursor(api.search,q=query+\" -filter:retweets\",lang='en',result_type='recent',geocode=\"22.1568,89.4332,500km\").items(100):\n",
    "        list_tweets.append(status.text)\n"
   ]
  },
  {
   "cell_type": "code",
   "execution_count": 26,
   "metadata": {
    "collapsed": true
   },
   "outputs": [],
   "source": [
    "# Loading the vectorizer and classfier\n",
    "with open('classifier.pickle','rb') as f:\n",
    "    classifier = pickle.load(f)\n",
    "    \n",
    "with open('tfidfmodel.pickle','rb') as f:\n",
    "    tfidf = pickle.load(f)    \n"
   ]
  },
  {
   "cell_type": "code",
   "execution_count": 31,
   "metadata": {
    "collapsed": true
   },
   "outputs": [],
   "source": [
    "total_pos = 0\n",
    "total_neg = 0"
   ]
  },
  {
   "cell_type": "code",
   "execution_count": 32,
   "metadata": {},
   "outputs": [
    {
     "name": "stdout",
     "output_type": "stream",
     "text": [
      "(u'donald trump assumed office on th january half of the tenure completed he has been to china japan sout ', ':', array([0]))\n",
      "(u'dow to pop higher after trump backs away from declaring emergency to build border wall ', ':', array([1]))\n",
      "(u'european union countries are expected to next week approve scheme to limit imports of steel into the bloc followi ', ':', array([0]))\n",
      "(u'trump still considering emergency declaration for border wall spokeswoman ', ':', array([1]))\n",
      "(u'donald trump is real racist white supremacist says hollywood icon robert deniro ', ':', array([1]))\n",
      "(u' kaitlancollins last night address seems to hv been grudging acquiescence on trump part heeding the advice ', ':', array([0]))\n",
      "(u'are you looking for wordpress website design customization fix issues error html css problem theme cust ', ':', array([1]))\n",
      "(u' shimonpro dude you almost went into how they disenfranchised likely hrc voters in swing states mi where trump ', ':', array([1]))\n",
      "(u'trump pleads on tv for wall money democrats say he stokes fear ', ':', array([0]))\n",
      "(u'trump insists on steel wall with mexico in prime time speech ', ':', array([1]))\n",
      "(u'trump prime time address ', ':', array([1]))\n",
      "(u'trump prime time bludgeon ', ':', array([1]))\n",
      "(u'why trump weakness masks the president power ', ':', array([1]))\n",
      "(u' cnn definite trump is riding the right ', ':', array([1]))\n",
      "(u'are you looking for wordpress website design google page speed optimization gtmetrix load time seconds ', ':', array([0]))\n",
      "(u' omarabdullah think you need to take protein powder spoon with cup of milk and should take this level of matu ', ':', array([1]))\n",
      "(u'in outrage over trump jibe at modi more vital message on afghan policy was overlooked ', ':', array([1]))\n",
      "(u'donald trump is real racist white supremacist says hollywood icon robert deniro ', ':', array([1]))\n",
      "(u' kim ends beijing visit as potus summit looms ', ':', array([1]))\n",
      "(u'pelosi schumer spark laughs on social media for angry parents rebuttal to trump address https co yqqyaurh ', ':', array([1]))\n",
      "(u' cvpayne dems not trump he wants troops home amp are not allowing him yet he is to blame you all are not for the ', ':', array([1]))\n",
      "(u' scottpresler because of these evil american supporting dems now trump isn the model human but if he is trying ', ':', array([1]))\n",
      "(u' on youtube trump relations with india better than ever ', ':', array([0]))\n",
      "(u'trump links drugs violent crime to lack of border wall ', ':', array([1]))\n",
      "(u'nancy pelosi chuck schumer accuse donald trump of misinformation and malice in border fight ', ':', array([0]))\n",
      "(u'the latest mcconnell says trump border plan suits reality ', ':', array([1]))\n",
      "(u'networks to air trump immigration address after denying obama left cries foul ', ':', array([1]))\n",
      "(u'pelosi schumer respond to trump speech on border security ', ':', array([0]))\n",
      "(u'donald trump says interest rates have held back economic growth ', ':', array([1]))\n",
      "(u'fact checking this morning nbc news is fact checking the democratic response to president trump oval office addr ', ':', array([1]))\n",
      "(u'mind may trump dna in exercise and eating habits ', ':', array([1]))\n",
      "(u'trump pleads on tv for wall money democrats say he stokes fear ', ':', array([0]))\n",
      "(u'trevor noah is worried about trump declaring national emergency ', ':', array([1]))\n",
      "(u' shimonpro dude you almost went into how they dude franchised likely hrc voters in swing states where trump won by ', ':', array([1]))\n",
      "(u'flavors of smarminess found in or near the oval office trump alpha narcissist crooked salesman division pence ', ':', array([0]))\n",
      "(u' buzzman ultraclassic oh look who wants to impeach realdonaldtrump now ', ':', array([0]))\n",
      "(u'kim jong un ends beijing visit as trump summit looms ', ':', array([1]))\n",
      "(u' realjameswoods one of her friends also wants to impeach realdonaldtrump ', ':', array([1]))\n",
      "(u'china cuts tariffs on us cars as trade peace deal will it satisfy trump ', ':', array([1]))\n",
      "(u'trump wall president addresses nation on border crisis us president donald trump has made his first tv address ', ':', array([1]))\n",
      "(u'stephen colbert uses bird box part to mock trump national address ', ':', array([1]))\n",
      "(u'mind may trump dna in exercise and eating habits ', ':', array([1]))\n",
      "(u'stephen colbert uses bird box part to mock trump national address ', ':', array([1]))\n",
      "(u'stephen colbert uses bird box part to mock trump national address ', ':', array([1]))\n",
      "(u'democrats to trump we don govern by temper tantrum ', ':', array([1]))\n",
      "(u' alyssa_milano why don you worry as much about the child trafficking that is going on at the border your in such ', ':', array([1]))\n",
      "(u'trump demands wall but doesn declare emergency ', ':', array([1]))\n",
      "(u'drum rolls for trump speech more like eye rolls in mexico ', ':', array([1]))\n",
      "(u'full transcripts trump speech on immigration and the democratic response ', ':', array([1]))\n",
      "(u' democratic hopefuls react to trump speech ', ':', array([1]))\n",
      "(u'bolton walked back syria statement his disdain for debate helped produce it s ', ':', array([1]))\n",
      "(u' sonaliranade after receiving threats of being renamed trump putin and xi has decided to pass the veto in the un ', ':', array([0]))\n",
      "(u' aoc you insist on calling trump racist so let me educate your stupid s this man has been trying to help all ', ':', array([0]))\n",
      "(u' conservativma staceydubois or this ', ':', array([1]))\n",
      "(u'bbc news trump wall president addresses nation on border crisis ', ':', array([1]))\n",
      "(u' acosta did kellyanne conway really tell you people don like you must be reflection of herself c don lik ', ':', array([1]))\n",
      "(u'by giovanni russonello if m the democrats would just give trump the wall before he finds out what he can real ', ':', array([0]))\n",
      "(u'kim jong un heads home on special train after day visit to beijing kim trip to china his fourth in the past ', ':', array([1]))\n",
      "(u' from ', ':', array([1]))\n",
      "(u' hpena hey how you doing hate trump so much huh ', ':', array([1]))\n",
      "(u'trump wall president addresses nation on border crisis ', ':', array([1]))\n",
      "(u'modi curries favor with trump but it won work https co lhyatjyp theshare via theshare', ':', array([1]))\n",
      "(u'no progress towards ending s shutdown in trump meeting with ', ':', array([1]))\n",
      "(u'trump pleads on tv for wall funding to fix border crisis ', ':', array([0]))\n",
      "(u'us president donald trump demands funds for wall ', ':', array([1]))\n",
      "(u'pelosi schumer spark laughs on social media for angry parents rebuttal to trump address ', ':', array([1]))\n",
      "(u'many pundits rip trump border speech both before and after ', ':', array([1]))\n",
      "(u'ocasio cortez trump is racist and people should be uncomfortable ', ':', array([1]))\n",
      "(u'trump wall president addresses nation on border crisis ', ':', array([1]))\n",
      "(u' abc people think trump thrust on border wall is good for america and big stop to unending influx of outsiders ', ':', array([1]))\n",
      "(u' korea kim ends beijing visit as trump summit looms ', ':', array([1]))\n",
      "(u'trump campaign chief gave polling data to russian ', ':', array([1]))\n",
      "(u' palmerreport ninaandtito the left and the right are already deeply entrenched in their respective positions trum ', ':', array([1]))\n",
      "(u'russian lawyer charged the russian lawyer who attended meeting at trump tower with members of the trump ', ':', array([1]))\n",
      "(u'team coverage wrap of tonight address from president trump tonight at on eyewitness news nepa nepabuzz', ':', array([1]))\n",
      "(u' soft coup against donald trump ', ':', array([1]))\n",
      "(u'house democrats to test republicans on trump wall demand https co wgslse sca', ':', array([1]))\n",
      "(u'in oval office speech trump demands wall but does not declare emergency president donald trump urged congress in ', ':', array([1]))\n",
      "(u'what collusion witch hunt when trump campaign manager shared polling data amp information with high ranking kr ', ':', array([1]))\n",
      "(u'trump pleads on tv for wall funding to fix border crisis ', ':', array([0]))\n",
      "(u' rk_hudda twitter tarekfatah this gives one more reason for the world to support donald trump common man do not understand it ', ':', array([1]))\n",
      "(u'donald trump demands us border wall sidesteps declaring emergency ', ':', array([1]))\n",
      "(u' have to admit not every gop christian is brainwashed fundamentalist sycophant ', ':', array([0]))\n",
      "(u'in oval office speech trump demands wall but does not declare emergency ', ':', array([1]))\n",
      "(u'jimmy kimmel thinks trump presidential address could ve been scarier ', ':', array([0]))\n",
      "(u'jimmy kimmel thinks trump presidential address could ve been scarier ', ':', array([0]))\n",
      "(u'jimmy kimmel thinks trump presidential address could ve been scarier ', ':', array([0]))\n",
      "(u'watch students slam trump wall quotes then they learn who actually said them ', ':', array([1]))\n",
      "(u'pm modi and president trump discuss strategic ties reporters today ', ':', array([1]))\n",
      "(u' added video to youtube playlist donald trump lifestyle biography age speech spouse net worth car ', ':', array([0]))\n",
      "(u' added video to youtube playlist donald trump lifestyle biography age speech spouse net worth car ', ':', array([0]))\n",
      "(u'peoples are living on street now due to house crisis and trump is thinking km wall ha ha', ':', array([0]))\n",
      "(u'donald trump calls indian origin police officer killed in us national hero download the ', ':', array([0]))\n",
      "(u' captain joenbc oh look another idiot that doesn know that we have walls and fences on our southern border ', ':', array([0]))\n",
      "(u' itsmemitpretty joenbc believe you are misguided in your assertion are these people coming from south america ', ':', array([1]))\n",
      "(u' thecontrumpdiction america first government employees not being paid so trump can get wall to prevent illegals ', ':', array([1]))\n",
      "(u'john bolton seems to be the ultimate decision maker but not trump trump should have consulted before making decla ', ':', array([1]))\n",
      "(u' cbr the only thing that matters is displays of emergent class consciousness trump was never the issue suckers he is america personified ', ':', array([1]))\n",
      "(u'fact checking trump immigration speech ', ':', array([1]))\n",
      "(u'trump demands billion for steel barrier on us mexico border ', ':', array([1]))\n"
     ]
    }
   ],
   "source": [
    "# Preprocessing the tweets\n",
    "for tweet in list_tweets:\n",
    "    tweet = re.sub(r\"^https://t.co/[a-zA-Z0-9]*\\s\", \" \", tweet)\n",
    "    tweet = re.sub(r\"\\s+https://t.co/[a-zA-Z0-9]*\\s\", \" \", tweet)\n",
    "    tweet = re.sub(r\"\\s+https://t.co/[a-zA-Z0-9]*$\", \" \", tweet)\n",
    "    tweet = tweet.lower()\n",
    "    tweet = re.sub(r\"that's\",\"that is\",tweet)\n",
    "    tweet = re.sub(r\"there's\",\"there is\",tweet)\n",
    "    tweet = re.sub(r\"what's\",\"what is\",tweet)\n",
    "    tweet = re.sub(r\"where's\",\"where is\",tweet)\n",
    "    tweet = re.sub(r\"it's\",\"it is\",tweet)\n",
    "    tweet = re.sub(r\"who's\",\"who is\",tweet)\n",
    "    tweet = re.sub(r\"i'm\",\"i am\",tweet)\n",
    "    tweet = re.sub(r\"she's\",\"she is\",tweet)\n",
    "    tweet = re.sub(r\"he's\",\"he is\",tweet)\n",
    "    tweet = re.sub(r\"they're\",\"they are\",tweet)\n",
    "    tweet = re.sub(r\"who're\",\"who are\",tweet)\n",
    "    tweet = re.sub(r\"ain't\",\"am not\",tweet)\n",
    "    tweet = re.sub(r\"wouldn't\",\"would not\",tweet)\n",
    "    tweet = re.sub(r\"shouldn't\",\"should not\",tweet)\n",
    "    tweet = re.sub(r\"can't\",\"can not\",tweet)\n",
    "    tweet = re.sub(r\"couldn't\",\"could not\",tweet)\n",
    "    tweet = re.sub(r\"won't\",\"will not\",tweet)\n",
    "    tweet = re.sub(r\"\\W\",\" \",tweet)\n",
    "    tweet = re.sub(r\"\\d\",\" \",tweet)\n",
    "    tweet = re.sub(r\"\\s+[a-z]\\s+\",\" \",tweet)\n",
    "    tweet = re.sub(r\"\\s+[a-z]$\",\" \",tweet)\n",
    "    tweet = re.sub(r\"^[a-z]\\s+\",\" \",tweet)\n",
    "    tweet = re.sub(r\"\\s+\",\" \",tweet)\n",
    "    sent = classifier.predict(tfidf.transform([tweet]).toarray())\n",
    "    print(tweet,\":\",sent)\n",
    "    if sent[0] == 1:\n",
    "        total_pos += 1\n",
    "    else:\n",
    "        total_neg += 1\n"
   ]
  },
  {
   "cell_type": "code",
   "execution_count": 33,
   "metadata": {},
   "outputs": [
    {
     "data": {
      "image/png": "[encoded data removed]",
      "text/plain": [
       "<Figure size 432x288 with 1 Axes>"
      ]
     },
     "metadata": {},
     "output_type": "display_data"
    }
   ],
   "source": [
    "# Visualizing the results\n",
    "import matplotlib.pyplot as plt\n",
    "import numpy as np\n",
    "objects = ['Positive','Negative']\n",
    "y_pos = np.arange(len(objects))\n",
    "\n",
    "plt.bar(y_pos,[total_pos,total_neg],alpha=0.5)\n",
    "plt.xticks(y_pos,objects)\n",
    "plt.ylabel('Number')\n",
    "plt.title('Number of Postive and NEgative Tweets')\n",
    "\n",
    "plt.show()\n"
   ]
  },
  {
   "cell_type": "code",
   "execution_count": null,
   "metadata": {
    "collapsed": true
   },
   "outputs": [],
   "source": []
  }
 ],
 "metadata": {
  "kernelspec": {
   "display_name": "Python 3",
   "language": "python",
   "name": "python3"
  },
  "language_info": {
   "codemirror_mode": {
    "name": "ipython",
    "version": 3
   },
   "file_extension": ".py",
   "mimetype": "text/x-python",
   "name": "python",
   "nbconvert_exporter": "python",
   "pygments_lexer": "ipython3",
   "version": "3.7.1"
  }
 },
 "nbformat": 4,
 "nbformat_minor": 2
}
